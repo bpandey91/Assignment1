{
 "cells": [
  {
   "cell_type": "code",
   "execution_count": 13,
   "id": "e7f2d64c",
   "metadata": {},
   "outputs": [
    {
     "data": {
      "text/plain": [
       "30"
      ]
     },
     "execution_count": 13,
     "metadata": {},
     "output_type": "execute_result"
    }
   ],
   "source": [
    "1. In the below elements which of them are values or an expression? eg:- values can be\n",
    "integer or string and expressions will be mathematical operators.\n",
    "Answer:\n",
    "*:----------(multiply)expression\n",
    "'hello':----------(String)value\n",
    "-87.8:----------(float)value\n",
    "-:-------------(minus)expression\n",
    "/:--------(division)expression\n",
    "+:--------(addition)expression\n",
    "6:--------(integer)expression"
   ]
  },
  {
   "cell_type": "code",
   "execution_count": null,
   "id": "84fd80df",
   "metadata": {},
   "outputs": [],
   "source": [
    "2. What is the difference between string and variable?\n",
    "Answer:\n",
    "    variable is store of information, and string is type of information. "
   ]
  },
  {
   "cell_type": "code",
   "execution_count": null,
   "id": "0d736ad9",
   "metadata": {},
   "outputs": [],
   "source": [
    "3. Describe three different data types.\n",
    "Answer: \n",
    "    int......example: 1,2,3,45 can store only inetger value\n",
    "    float.....example: 1.1,5.5,5454.5 can store only folating number\n",
    "    string.....example: 'world',\"my 1st assignments\" can store string value\n",
    "    boolean.....example: True,False .. can store bollean "
   ]
  },
  {
   "cell_type": "code",
   "execution_count": null,
   "id": "02d8fba5",
   "metadata": {},
   "outputs": [],
   "source": [
    "4. What is an expression made up of? What do all expressions do?\n",
    "Answer:\n",
    "    An expression is a construct made up of variables, operators, and method invocations, which are constructed according to the syntax of the language, that evaluates to a single value.\n",
    "          example:\n",
    "            a=b+c"
   ]
  },
  {
   "cell_type": "code",
   "execution_count": null,
   "id": "f7261dd3",
   "metadata": {},
   "outputs": [],
   "source": [
    "5. This assignment statements, like spam = 10. What is the difference between an\n",
    "expression and a statement?\n",
    "Answer:\n",
    "    spam = 10 -----> in this statement is spam is called as variable and 10 is there value which is integer.\n",
    "    =   ........> this symbol is a expression which is assigning spam to value 10."
   ]
  },
  {
   "cell_type": "code",
   "execution_count": null,
   "id": "ce2f4c79",
   "metadata": {},
   "outputs": [],
   "source": [
    "6. After running the following code, what does the variable bacon contain?\n",
    "bacon = 22\n",
    "bacon + 1\n",
    "\n",
    "Answer\n",
    "bacon = 22     -----> bacon is a variable which value is 22 \n",
    "bacon + 1 -------> this mean in the bacon which value is 22 we are adding 1 in this which output will be 23."
   ]
  },
  {
   "cell_type": "code",
   "execution_count": 14,
   "id": "d11e773d",
   "metadata": {},
   "outputs": [
    {
     "data": {
      "text/plain": [
       "23"
      ]
     },
     "execution_count": 14,
     "metadata": {},
     "output_type": "execute_result"
    }
   ],
   "source": [
    "7. What should the values of the following two terms be?\n",
    "'spam'+'spamspam'\n",
    "'spam'*3\n",
    "Answer\n",
    "\n",
    "'spam'+'spamspam' -----> output 'spamspamspam'\n",
    "'spam'*3  ------->output 'spamspamspam'\n",
    "Answer"
   ]
  },
  {
   "cell_type": "code",
   "execution_count": 17,
   "id": "a7bd5019",
   "metadata": {},
   "outputs": [],
   "source": [
    "8. Why is eggs a valid variable name while 100 is invalid?\n",
    "Answer:\n",
    "    we can assign eggs or alphabets as a varible name but we can't assign numerical value as a variable.\n"
   ]
  },
  {
   "cell_type": "code",
   "execution_count": 21,
   "id": "23e24a65",
   "metadata": {},
   "outputs": [
    {
     "data": {
      "text/plain": [
       "1"
      ]
     },
     "execution_count": 21,
     "metadata": {},
     "output_type": "execute_result"
    }
   ],
   "source": [
    "9. What three functions can be used to get the integer, floating-point number, or string\n",
    "version of a value?\n",
    "\n",
    "Answer:\n",
    "    int(),float(),str()"
   ]
  },
  {
   "cell_type": "code",
   "execution_count": null,
   "id": "eb24c35c",
   "metadata": {},
   "outputs": [],
   "source": [
    "10. Why does this expression cause an error? How can you fix it?\n",
    "'I have eaten' + 99 + 'burritos'\n",
    "Answer:\n",
    "    \n",
    "syntax error because we can not add directly to string with int.\n",
    "\n",
    "we can fix this with below code.\n",
    "\n",
    "'I have eaten' + \" 99 \" + 'burritos.'\n",
    "    "
   ]
  },
  {
   "cell_type": "code",
   "execution_count": 24,
   "id": "348feeb7",
   "metadata": {
    "scrolled": true
   },
   "outputs": [
    {
     "data": {
      "text/plain": [
       "'I have eaten 99 burritos.'"
      ]
     },
     "execution_count": 24,
     "metadata": {},
     "output_type": "execute_result"
    }
   ],
   "source": [
    "'I have eaten' + \" 99 \" + 'burritos.'"
   ]
  },
  {
   "cell_type": "code",
   "execution_count": null,
   "id": "1faf56be",
   "metadata": {},
   "outputs": [],
   "source": []
  }
 ],
 "metadata": {
  "kernelspec": {
   "display_name": "Python 3 (ipykernel)",
   "language": "python",
   "name": "python3"
  },
  "language_info": {
   "codemirror_mode": {
    "name": "ipython",
    "version": 3
   },
   "file_extension": ".py",
   "mimetype": "text/x-python",
   "name": "python",
   "nbconvert_exporter": "python",
   "pygments_lexer": "ipython3",
   "version": "3.9.7"
  }
 },
 "nbformat": 4,
 "nbformat_minor": 5
}
